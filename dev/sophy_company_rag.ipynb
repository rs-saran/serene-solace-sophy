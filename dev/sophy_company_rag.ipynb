{
 "cells": [
  {
   "cell_type": "code",
   "execution_count": 3,
   "metadata": {},
   "outputs": [],
   "source": [
    "# from sophy_util import chat, company_qna_chat\n",
    "from langchain.prompts import ChatPromptTemplate\n",
    "from sophy_util import chat, company_qna_chat, exchanges_pretty\n",
    "from langchain.schema.runnable import RunnablePassthrough\n",
    "from langchain.schema.output_parser import StrOutputParser\n",
    "from graph_util import display_graph\n",
    "from typing import Union, Literal\n",
    "from langchain_ollama import OllamaEmbeddings\n",
    "from langchain_text_splitters import MarkdownHeaderTextSplitter\n",
    "from langchain_groq import ChatGroq\n",
    "from langchain_core.messages import AIMessage, HumanMessage, SystemMessage\n",
    "from langgraph.graph import StateGraph, Graph, START, END\n",
    "from langgraph.graph import StateGraph\n",
    "from langgraph.graph.message import AnyMessage, add_messages\n",
    "from langgraph.checkpoint.memory import MemorySaver\n",
    "from typing_extensions import TypedDict\n",
    "from pydantic import BaseModel, Field\n",
    "from langchain_community.vectorstores import FAISS"
   ]
  },
  {
   "cell_type": "code",
   "execution_count": 4,
   "metadata": {},
   "outputs": [
    {
     "name": "stderr",
     "output_type": "stream",
     "text": [
      "<>:6: SyntaxWarning: invalid escape sequence '\\c'\n",
      "<>:6: SyntaxWarning: invalid escape sequence '\\c'\n",
      "C:\\Users\\Saran\\AppData\\Local\\Temp\\ipykernel_24148\\1015364681.py:6: SyntaxWarning: invalid escape sequence '\\c'\n",
      "  with open('res\\company.md',\"r\") as f:\n"
     ]
    }
   ],
   "source": [
    "ss_agent_key = \"\"\n",
    "llm = ChatGroq(\n",
    "    model=\"llama-3.3-70b-versatile\",\n",
    "    api_key=ss_agent_key\n",
    ")\n",
    "with open('res\\company.md',\"r\") as f:\n",
    "    markdown_document = f.read()\n",
    "\n",
    "headers_to_split_on = [\n",
    "    (\"#\", \"Header 1\"),\n",
    "    (\"##\", \"Header 2\"),\n",
    "    (\"###\", \"Header 3\"),\n",
    "]\n",
    "\n",
    "markdown_splitter = MarkdownHeaderTextSplitter(headers_to_split_on)\n",
    "md_header_splits = markdown_splitter.split_text(markdown_document)\n",
    "embeddings = OllamaEmbeddings(model=\"llama3.2:1b\")\n",
    "vectorstore=FAISS.from_documents(md_header_splits, embeddings)\n",
    "retriever=vectorstore.as_retriever()\n",
    "\n",
    "class SophyState(TypedDict):\n",
    "    exchange: int\n",
    "    conv_sum: str\n",
    "    conversation_history: list[AnyMessage]\n",
    "    latest_exchanges: list[AnyMessage]\n",
    "    user_input: str\n",
    "    agent_response: str\n",
    "    \n",
    "def company_qa(chat_state:SophyState, retriever=retriever):\n",
    "    exchange = chat_state.get(\"exchange\",0)\n",
    "    conv_sum = chat_state.get(\"conv_sum\",\"\")\n",
    "    conversation_history = chat_state.get(\"conversation_history\",[])\n",
    "    latest_exchanges = chat_state.get(\"latest_exchanges\",[])\n",
    "    user_input = chat_state[\"user_input\"]\n",
    "    print(\"====> Company QnA <====\")\n",
    "    \n",
    "    exchange,conversation_history = company_qna_chat(llm,retriever,conversation_history,user_input, exchange)\n",
    "\n",
    "    return {\n",
    "        \"exchange\":exchange,\n",
    "        \"conv_sum\":conv_sum,\n",
    "        \"conversation_history\":conversation_history,\n",
    "        \"latest_exchanges\":latest_exchanges,\n",
    "        \"user_input\":user_input\n",
    "    }"
   ]
  },
  {
   "cell_type": "code",
   "execution_count": 6,
   "metadata": {},
   "outputs": [],
   "source": [
    "user_input = \"What is serene solace?\"\n",
    "chat_state = SophyState(exchange=0, conv_sum=\"\", conversation_history=[], latest_exchanges=[], user_input=user_input)\n"
   ]
  },
  {
   "cell_type": "code",
   "execution_count": 14,
   "metadata": {},
   "outputs": [
    {
     "name": "stdout",
     "output_type": "stream",
     "text": [
      "====> Company QnA <====\n"
     ]
    },
    {
     "data": {
      "text/plain": [
       "ChatPromptValue(messages=[HumanMessage(content='You are an assistant for question-answering tasks.\\n            Use only the context to answer the question.\\n            If you don\\'t know the answer, just say that you don\\'t know.\\n            Use ten sentences maximum and keep the answer concise.\\n            If Serene Solace is mentioned talk only about the company. Do not provide unnecessary reasoning.\\n\\n            If you find anything unrelated in the latest conversation ignore them.\\n\\n            Context: [Document(id=\\'1cbd1b5a-b25c-4650-8306-86b809714dac\\', metadata={\\'Header 1\\': \\'Serene Solace Overview\\', \\'Header 2\\': \"**Serene Solace\\'s Mission: Mental First Aid**\"}, page_content=\"We see ourselves as **mental first aid**, offering a **safe space** where users can talk about their feelings and emotions. If you\\'re unsure of what you\\'re feeling, whether it\\'s **stress, loneliness, anxiety**, or something else, we are here to help.  \\\\n**What We Mean by First Aid:**\\\\n- Our goal is to provide immediate support when you need it most, giving you a space to express yourself and be heard.\\\\n- We listen without judgment and help you begin understanding your emotions and challenges, pointing you toward helpful resources.  \\\\n---\"), Document(id=\\'ef0a7597-429d-4725-8084-96b2fd334d3c\\', metadata={\\'Header 1\\': \\'Serene Solace Overview\\', \\'Header 2\\': \\'**How Serene Solace Is Making a Change**\\'}, page_content=\\'We offer **trained bot** which is equipped to:\\\\n- Provide the **initial emotional support** necessary for people feeling overwhelmed.\\\\n- Help users identify the root of their feelings.\\\\n- Guide individuals to the right resources and help them understand when they might need **professional therapy**.  \\\\n---\\'), Document(id=\\'c5eb7bc7-46b5-4fe1-bbb5-5bb39bba66c1\\', metadata={\\'Header 1\\': \\'Serene Solace Overview\\', \\'Header 2\\': \\'**Data Policy**\\'}, page_content=\\'We do not store the chat data beyond a chat session.\\'), Document(id=\\'621c573b-0da1-4cff-bd26-638d79ea41ef\\', metadata={\\'Header 1\\': \\'Serene Solace Overview\\', \\'Header 2\\': \\'**Key Services**\\'}, page_content=\\'- **Immediate emotional support** for those feeling stressed, lonely, anxious, or just needing someone to talk to.\\\\n- **Access to professional therapists** for more complex mental health challenges.\\\\n- **Affordable mental health support** to ensure that financial constraints do not prevent you from getting help.  \\\\n---\\')]\\n\\n            latest conversation:\\n            \\n            human:What is serene solace?\\n            assistant:', additional_kwargs={}, response_metadata={})])"
      ]
     },
     "execution_count": 14,
     "metadata": {},
     "output_type": "execute_result"
    }
   ],
   "source": [
    "exchange = chat_state.get(\"exchange\",0)\n",
    "conv_sum = chat_state.get(\"conv_sum\",\"\")\n",
    "conversation_history = chat_state.get(\"conversation_history\",[])\n",
    "latest_exchanges = chat_state.get(\"latest_exchanges\",[])\n",
    "user_input = chat_state[\"user_input\"]\n",
    "print(\"====> Company QnA <====\")\n",
    "latest_exchanges = conversation_history[-6 :]\n",
    "latest_exchanges_pretty = exchanges_pretty(latest_exchanges, True)\n",
    "\n",
    "template = '''You are an assistant for question-answering tasks.\n",
    "            Use only the context to answer the question.\n",
    "            If you don't know the answer, just say that you don't know.\n",
    "            Use ten sentences maximum and keep the answer concise.\n",
    "            If Serene Solace is mentioned talk only about the company. Do not provide unnecessary reasoning.\n",
    "\n",
    "            If you find anything unrelated in the latest conversation ignore them.\n",
    "\n",
    "            Context: {context}\n",
    "\n",
    "            latest conversation:\n",
    "            {latest_exchanges_pretty}\n",
    "            human:{user_query}\n",
    "            assistant:'''\n",
    "\n",
    "prompt = ChatPromptTemplate.from_template(template)\n",
    "d = {\"context\": lambda x: retriever,  \"latest_exchanges_pretty\": latest_exchanges_pretty ,\"user_query\": user_input}\n",
    "\n",
    "output_parser=StrOutputParser()\n",
    "def llm_fake(prompt):\n",
    "    return prompt\n",
    "\n",
    "rag_chain = (\n",
    " {\"context\": retriever,  \"latest_exchanges_pretty\": lambda x: latest_exchanges_pretty ,\"user_query\":  RunnablePassthrough()}\n",
    "| prompt\n",
    "# | llm_fake\n",
    "# | output_parser\n",
    ")\n",
    "exchange += 1\n",
    "\n",
    "\n",
    "model_response = rag_chain.invoke(\"What is serene solace?\")\n",
    "model_response"
   ]
  },
  {
   "cell_type": "code",
   "execution_count": 18,
   "metadata": {},
   "outputs": [],
   "source": [
    "x = model_response.to_messages()"
   ]
  },
  {
   "cell_type": "code",
   "execution_count": 20,
   "metadata": {},
   "outputs": [
    {
     "name": "stdout",
     "output_type": "stream",
     "text": [
      "You are an assistant for question-answering tasks.\n",
      "            Use only the context to answer the question.\n",
      "            If you don't know the answer, just say that you don't know.\n",
      "            Use ten sentences maximum and keep the answer concise.\n",
      "            If Serene Solace is mentioned talk only about the company. Do not provide unnecessary reasoning.\n",
      "\n",
      "            If you find anything unrelated in the latest conversation ignore them.\n",
      "\n",
      "            Context: [Document(id='1cbd1b5a-b25c-4650-8306-86b809714dac', metadata={'Header 1': 'Serene Solace Overview', 'Header 2': \"**Serene Solace's Mission: Mental First Aid**\"}, page_content=\"We see ourselves as **mental first aid**, offering a **safe space** where users can talk about their feelings and emotions. If you're unsure of what you're feeling, whether it's **stress, loneliness, anxiety**, or something else, we are here to help.  \\n**What We Mean by First Aid:**\\n- Our goal is to provide immediate support when you need it most, giving you a space to express yourself and be heard.\\n- We listen without judgment and help you begin understanding your emotions and challenges, pointing you toward helpful resources.  \\n---\"), Document(id='ef0a7597-429d-4725-8084-96b2fd334d3c', metadata={'Header 1': 'Serene Solace Overview', 'Header 2': '**How Serene Solace Is Making a Change**'}, page_content='We offer **trained bot** which is equipped to:\\n- Provide the **initial emotional support** necessary for people feeling overwhelmed.\\n- Help users identify the root of their feelings.\\n- Guide individuals to the right resources and help them understand when they might need **professional therapy**.  \\n---'), Document(id='c5eb7bc7-46b5-4fe1-bbb5-5bb39bba66c1', metadata={'Header 1': 'Serene Solace Overview', 'Header 2': '**Data Policy**'}, page_content='We do not store the chat data beyond a chat session.'), Document(id='621c573b-0da1-4cff-bd26-638d79ea41ef', metadata={'Header 1': 'Serene Solace Overview', 'Header 2': '**Key Services**'}, page_content='- **Immediate emotional support** for those feeling stressed, lonely, anxious, or just needing someone to talk to.\\n- **Access to professional therapists** for more complex mental health challenges.\\n- **Affordable mental health support** to ensure that financial constraints do not prevent you from getting help.  \\n---')]\n",
      "\n",
      "            latest conversation:\n",
      "            \n",
      "            human:What is serene solace?\n",
      "            assistant:\n"
     ]
    }
   ],
   "source": [
    "for i in x:\n",
    "    print(i.content)"
   ]
  },
  {
   "cell_type": "code",
   "execution_count": null,
   "metadata": {},
   "outputs": [],
   "source": [
    "def company_qna_chat(\n",
    "    llm,\n",
    "    retriever,\n",
    "    conversation_history,\n",
    "    user_input,\n",
    "    exchange\n",
    "):\n",
    "    reset_exchange = -1\n",
    "\n",
    "    if user_input.lower() in [\"exit\", \"quit\", \"stop\", \"q\"]:\n",
    "        print(\"Goodbye. Take care.\")\n",
    "        print(end=\"\\n\\n\\n\\n\\n\")\n",
    "        # print(exchanges_pretty(conversation_history))\n",
    "\n",
    "    \n",
    "    latest_exchanges = conversation_history[-6 :]\n",
    "    latest_exchanges_pretty = exchanges_pretty(latest_exchanges, True)\n",
    "\n",
    "    template = '''You are sophy of serene solace company, an customer assistant for question-answering tasks.\n",
    "                    Use only the context to answer the question.\n",
    "                    If you don't know the answer, just say that you don't know.\n",
    "                    Use ten sentences maximum and keep the answer concise.\n",
    "                    If Serene Solace is mentioned talk only about the company. Do not provide unnecessary reasoning.\n",
    "        \n",
    "                    Context: {context}\n",
    "\n",
    "                    latest conversation:\n",
    "                    {latest_exchanges_pretty}\n",
    "                    human:{user_query}\n",
    "                    assistant:'''\n",
    "    \n",
    "    prompt = ChatPromptTemplate.from_template(template)\n",
    "\n",
    "\n",
    "    output_parser=StrOutputParser()\n",
    "\n",
    "    rag_chain = (\n",
    "        {\"context\": retriever,  \"latest_exchanges_pretty\":latest_exchanges_pretty ,\"user_query\": user_input}\n",
    "        | prompt\n",
    "        | llm\n",
    "        | output_parser\n",
    "    )\n",
    "    exchange += 1\n",
    "\n",
    "\n",
    "    model_response = rag_chain.invoke(user_input)\n",
    "\n",
    "    conversation_history.append(HumanMessage(content=user_input))\n",
    "    conversation_history.append(AIMessage(content=model_response))\n",
    "    # Print the response\n",
    "    print(f\"Sophy: {model_response.content}\")\n",
    "\n",
    "    return exchange, conversation_history"
   ]
  },
  {
   "cell_type": "code",
   "execution_count": null,
   "metadata": {},
   "outputs": [],
   "source": [
    "[Document(id='1cbd1b5a-b25c-4650-8306-86b809714dac', metadata={'Header 1': 'Serene Solace Overview', 'Header 2': \"**Serene Solace's Mission: Mental First Aid**\"}, page_content=\"We see ourselves as **mental first aid**, offering a **safe space** where users can talk about their feelings and emotions. If you're unsure of what you're feeling, whether it's **stress, loneliness, anxiety**, or something else, we are here to help.  \\n**What We Mean by First Aid:**\\n- Our goal is to provide immediate support when you need it most, giving you a space to express yourself and be heard.\\n- We listen without judgment and help you begin understanding your emotions and challenges, pointing you toward helpful resources.  \\n---\"), Document(id='ef0a7597-429d-4725-8084-96b2fd334d3c', metadata={'Header 1': 'Serene Solace Overview', 'Header 2': '**How Serene Solace Is Making a Change**'}, page_content='We offer **trained bot** which is equipped to:\\n- Provide the **initial emotional support** necessary for people feeling overwhelmed.\\n- Help users identify the root of their feelings.\\n- Guide individuals to the right resources and help them understand when they might need **professional therapy**.  \\n---'), Document(id='c5eb7bc7-46b5-4fe1-bbb5-5bb39bba66c1', metadata={'Header 1': 'Serene Solace Overview', 'Header 2': '**Data Policy**'}, page_content='We do not store the chat data beyond a chat session.'), Document(id='621c573b-0da1-4cff-bd26-638d79ea41ef', metadata={'Header 1': 'Serene Solace Overview', 'Header 2': '**Key Services**'}, page_content='- **Immediate emotional support** for those feeling stressed, lonely, anxious, or just needing someone to talk to.\\n- **Access to professional therapists** for more complex mental health challenges.\\n- **Affordable mental health support** to ensure that financial constraints do not prevent you from getting help.  \\n---')]"
   ]
  },
  {
   "cell_type": "code",
   "execution_count": null,
   "metadata": {},
   "outputs": [],
   "source": []
  },
  {
   "cell_type": "code",
   "execution_count": null,
   "metadata": {},
   "outputs": [],
   "source": []
  },
  {
   "cell_type": "code",
   "execution_count": null,
   "metadata": {},
   "outputs": [],
   "source": []
  },
  {
   "cell_type": "code",
   "execution_count": null,
   "metadata": {},
   "outputs": [],
   "source": []
  },
  {
   "cell_type": "code",
   "execution_count": null,
   "metadata": {},
   "outputs": [],
   "source": []
  },
  {
   "cell_type": "code",
   "execution_count": null,
   "metadata": {},
   "outputs": [],
   "source": []
  },
  {
   "cell_type": "code",
   "execution_count": null,
   "metadata": {},
   "outputs": [],
   "source": []
  },
  {
   "cell_type": "code",
   "execution_count": null,
   "metadata": {},
   "outputs": [],
   "source": []
  },
  {
   "cell_type": "code",
   "execution_count": null,
   "metadata": {},
   "outputs": [],
   "source": []
  },
  {
   "cell_type": "code",
   "execution_count": null,
   "metadata": {},
   "outputs": [],
   "source": []
  },
  {
   "cell_type": "code",
   "execution_count": null,
   "metadata": {},
   "outputs": [],
   "source": []
  },
  {
   "cell_type": "code",
   "execution_count": null,
   "metadata": {},
   "outputs": [],
   "source": []
  },
  {
   "cell_type": "code",
   "execution_count": null,
   "metadata": {},
   "outputs": [],
   "source": []
  },
  {
   "cell_type": "code",
   "execution_count": null,
   "metadata": {},
   "outputs": [],
   "source": []
  },
  {
   "cell_type": "code",
   "execution_count": null,
   "metadata": {},
   "outputs": [],
   "source": []
  },
  {
   "cell_type": "code",
   "execution_count": null,
   "metadata": {},
   "outputs": [],
   "source": []
  },
  {
   "cell_type": "code",
   "execution_count": null,
   "metadata": {},
   "outputs": [],
   "source": []
  },
  {
   "cell_type": "code",
   "execution_count": null,
   "metadata": {},
   "outputs": [],
   "source": []
  },
  {
   "cell_type": "code",
   "execution_count": null,
   "metadata": {},
   "outputs": [],
   "source": []
  },
  {
   "cell_type": "code",
   "execution_count": null,
   "metadata": {},
   "outputs": [],
   "source": []
  },
  {
   "cell_type": "code",
   "execution_count": null,
   "metadata": {},
   "outputs": [],
   "source": []
  },
  {
   "cell_type": "code",
   "execution_count": null,
   "metadata": {},
   "outputs": [],
   "source": []
  },
  {
   "cell_type": "code",
   "execution_count": null,
   "metadata": {},
   "outputs": [],
   "source": []
  },
  {
   "cell_type": "code",
   "execution_count": null,
   "metadata": {},
   "outputs": [],
   "source": []
  },
  {
   "cell_type": "code",
   "execution_count": null,
   "metadata": {},
   "outputs": [],
   "source": []
  }
 ],
 "metadata": {
  "kernelspec": {
   "display_name": "sss-env",
   "language": "python",
   "name": "python3"
  },
  "language_info": {
   "codemirror_mode": {
    "name": "ipython",
    "version": 3
   },
   "file_extension": ".py",
   "mimetype": "text/x-python",
   "name": "python",
   "nbconvert_exporter": "python",
   "pygments_lexer": "ipython3",
   "version": "3.12.8"
  }
 },
 "nbformat": 4,
 "nbformat_minor": 2
}
