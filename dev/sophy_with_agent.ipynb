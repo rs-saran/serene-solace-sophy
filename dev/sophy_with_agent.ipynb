{
 "cells": [
  {
   "cell_type": "code",
   "execution_count": 1,
   "metadata": {},
   "outputs": [],
   "source": []
  },
  {
   "cell_type": "code",
   "execution_count": 1,
   "metadata": {},
   "outputs": [],
   "source": [
    "from sophy_util import chat, company_qna_chat\n",
    "from graph_util import display_graph\n",
    "from typing import Union, Literal\n",
    "from langchain_ollama import OllamaEmbeddings\n",
    "from langchain.vectorstores import FAISS\n",
    "from langchain_text_splitters import MarkdownHeaderTextSplitter\n",
    "from langchain_groq import ChatGroq\n",
    "from langchain_core.messages import AIMessage, HumanMessage, SystemMessage\n",
    "from langgraph.graph import StateGraph, Graph, START, END\n",
    "from langgraph.graph import StateGraph\n",
    "from langgraph.graph.message import AnyMessage, add_messages\n",
    "from langgraph.checkpoint.memory import MemorySaver\n",
    "from typing_extensions import TypedDict\n",
    "from pydantic import BaseModel, Field\n",
    "from langchain.vectorstores import FAISS"
   ]
  },
  {
   "cell_type": "code",
   "execution_count": 5,
   "metadata": {},
   "outputs": [
    {
     "ename": "NameError",
     "evalue": "name 'llm' is not defined",
     "output_type": "error",
     "traceback": [
      "\u001b[1;31m---------------------------------------------------------------------------\u001b[0m",
      "\u001b[1;31mNameError\u001b[0m                                 Traceback (most recent call last)",
      "Cell \u001b[1;32mIn[5], line 20\u001b[0m\n\u001b[0;32m     17\u001b[0m     pickedRoute: \u001b[38;5;28mstr\u001b[39m \u001b[38;5;241m=\u001b[39m Field(description\u001b[38;5;241m=\u001b[39m \u001b[38;5;124m\"\u001b[39m\u001b[38;5;124mThe route to proceed in, can only be: \u001b[39m\u001b[38;5;124m'\u001b[39m\u001b[38;5;124mcontinue_chat\u001b[39m\u001b[38;5;124m'\u001b[39m\u001b[38;5;124m, \u001b[39m\u001b[38;5;124m'\u001b[39m\u001b[38;5;124mcrisis_helpline\u001b[39m\u001b[38;5;124m'\u001b[39m\u001b[38;5;124m, \u001b[39m\u001b[38;5;124m'\u001b[39m\u001b[38;5;124mcompany_qa\u001b[39m\u001b[38;5;124m'\u001b[39m\u001b[38;5;124m, \u001b[39m\u001b[38;5;124m'\u001b[39m\u001b[38;5;124mend_chat\u001b[39m\u001b[38;5;124m'\u001b[39m\u001b[38;5;124m \u001b[39m\u001b[38;5;124m\"\u001b[39m)\n\u001b[0;32m     18\u001b[0m     reason: \u001b[38;5;28mstr\u001b[39m \u001b[38;5;241m=\u001b[39m Field(description \u001b[38;5;241m=\u001b[39m\u001b[38;5;124m\"\u001b[39m\u001b[38;5;124mReason for picking the route\u001b[39m\u001b[38;5;124m\"\u001b[39m)\n\u001b[1;32m---> 20\u001b[0m llm_agent_response \u001b[38;5;241m=\u001b[39m \u001b[43mllm\u001b[49m\u001b[38;5;241m.\u001b[39mwith_structured_output(AgentResponse)\n\u001b[0;32m     22\u001b[0m \u001b[38;5;28;01mdef\u001b[39;00m \u001b[38;5;21msophy_chat\u001b[39m(chat_state:SophyState):\n\u001b[0;32m     23\u001b[0m     exchange \u001b[38;5;241m=\u001b[39m chat_state\u001b[38;5;241m.\u001b[39mget(\u001b[38;5;124m\"\u001b[39m\u001b[38;5;124mexchange\u001b[39m\u001b[38;5;124m\"\u001b[39m,\u001b[38;5;241m0\u001b[39m)\n",
      "\u001b[1;31mNameError\u001b[0m: name 'llm' is not defined"
     ]
    }
   ],
   "source": [
    "ss_agent_key = \"\"\n",
    "# llm = ChatGroq(\n",
    "#     model=\"llama-3.3-70b-versatile\",\n",
    "#     api_key=ss_agent_key\n",
    "# )\n",
    "\n",
    "class SophyState(TypedDict):\n",
    "    exchange: int\n",
    "    conv_sum: str\n",
    "    conversation_history: list[AnyMessage]\n",
    "    latest_exchanges: list[AnyMessage]\n",
    "    user_input: str\n",
    "    agent_response: str\n",
    "\n",
    "class AgentResponse(BaseModel):\n",
    "    \"Route to proceed in\"\n",
    "    pickedRoute: str = Field(description= \"The route to proceed in, can only be: 'continue_chat', 'crisis_helpline', 'company_qa', 'end_chat' \")\n",
    "    reason: str = Field(description =\"Reason for picking the route\")\n",
    "\n",
    "llm_agent_response = llm.with_structured_output(AgentResponse)\n",
    "\n",
    "def sophy_chat(chat_state:SophyState):\n",
    "    exchange = chat_state.get(\"exchange\",0)\n",
    "    conv_sum = chat_state.get(\"conv_sum\",\"\")\n",
    "    conversation_history = chat_state.get(\"conversation_history\",[])\n",
    "    latest_exchanges = chat_state.get(\"latest_exchanges\",[])\n",
    "    user_input = chat_state[\"user_input\"]\n",
    "    agent_response = chat_state.get(\"agent_response\", None)\n",
    "\n",
    "    exchange,conv_sum,conversation_history,latest_exchanges,user_input = chat(llm,exchange,conv_sum,conversation_history,latest_exchanges,user_input, exc_window=5)\n",
    "\n",
    "    return {\n",
    "        \"exchange\":exchange,\n",
    "        \"conv_sum\":conv_sum,\n",
    "        \"conversation_history\":conversation_history,\n",
    "        \"latest_exchanges\":latest_exchanges,\n",
    "        \"user_input\":user_input\n",
    "    }\n",
    "\n",
    "\n",
    "\n",
    "\n",
    "\n",
    "\n"
   ]
  },
  {
   "cell_type": "code",
   "execution_count": 6,
   "metadata": {},
   "outputs": [],
   "source": [
    "\n",
    "def agent(chat_state:SophyState):\n",
    "\n",
    "    conversation_history = chat_state.get(\"conversation_history\",[])\n",
    "    user_input = chat_state[\"user_input\"]\n",
    "\n",
    "    if len(conversation_history < 2):\n",
    "        select_conv = conversation_history\n",
    "    else:\n",
    "        select_conv = conversation_history[-2:]\n",
    "    \n",
    "    prompt = f'''\n",
    "        You are an autonoums agent in a mental health support chat system.\n",
    "\n",
    "        Based on the current human input and previous exchanges in the conversation pick the best route for the conversation to proceed in.\n",
    "        \n",
    "        Previous Exchanges:\n",
    "        {select_conv}\n",
    "        \n",
    "        Current Human Input:\n",
    "        {user_input}\n",
    "\n",
    "        Routes:\n",
    "        continue_chat : Normal chat route with mental health assistant\n",
    "        crisis_helpline : Speaclized route connects user to 24X7 crisis helpline to professionals will help the human avoid crisis like suicide and other harms.\n",
    "        company_qa : Specialized route to answer queries about company (serene soalce) information.\n",
    "        end_chat : Specialized end message if the user intends to end the chat\n",
    "\n",
    "        If you can not provide answers for sucidial tendencies or harmful pick the crisis helpine route so that user can recieve help from professionals.\n",
    "\n",
    "        If undecided and there are no harmful intentions always pick continue_chat\n",
    "\n",
    "        '''\n",
    "    \n",
    "    agent_response  = llm_agent_response.invoke(prompt)\n",
    "    \n",
    "    return {\"agent_response\":agent_response}\n"
   ]
  },
  {
   "cell_type": "code",
   "execution_count": 7,
   "metadata": {},
   "outputs": [],
   "source": [
    "\n",
    "\n",
    "def agent_edges(chat_state:SophyState) -> Literal[\"Sophy\", \"crisisHandler\", \"companyQA\"]:\n",
    "    agent_reponse = chat_state.get(\"agent_response\")\n",
    "    picked_route = agent_reponse[\"pickedRoute\"]\n",
    "\n",
    "    if picked_route == 'continue_chat':\n",
    "        return \"Sophy\"\n",
    "    elif picked_route == 'crisis_helpline':\n",
    "        return \"crisisHandler\"\n",
    "    elif picked_route =='company_qa':\n",
    "        return \"companyQA\"\n",
    "    elif picked_route =='end_chat':\n",
    "        return END\n",
    "    else:\n",
    "        return \"Sophy\"\n",
    "\n"
   ]
  },
  {
   "cell_type": "code",
   "execution_count": 8,
   "metadata": {},
   "outputs": [],
   "source": [
    "def company_qa(chat_state:SophyState, retriever):\n",
    "    exchange = chat_state.get(\"exchange\",0)\n",
    "    conv_sum = chat_state.get(\"conv_sum\",\"\")\n",
    "    conversation_history = chat_state.get(\"conversation_history\",[])\n",
    "    latest_exchanges = chat_state.get(\"latest_exchanges\",[])\n",
    "    user_input = chat_state[\"user_input\"]\n",
    "\n",
    "    exchange,conversation_history = company_qna_chat(llm,retriever,conversation_history,user_input)\n",
    "\n",
    "    return {\n",
    "        \"exchange\":exchange,\n",
    "        \"conv_sum\":conv_sum,\n",
    "        \"conversation_history\":conversation_history,\n",
    "        \"latest_exchanges\":latest_exchanges,\n",
    "        \"user_input\":user_input\n",
    "    }\n",
    "    \n",
    "\n",
    "def crisis_handler():\n",
    "    return \"If you are in an active crisis please call 1800-599-0019, a 24/7 toll free helpline launched by the Ministry of Social Justice and Empowerment of India\""
   ]
  },
  {
   "cell_type": "code",
   "execution_count": 9,
   "metadata": {},
   "outputs": [
    {
     "ename": "NameError",
     "evalue": "name 'sophy_chat' is not defined",
     "output_type": "error",
     "traceback": [
      "\u001b[1;31m---------------------------------------------------------------------------\u001b[0m",
      "\u001b[1;31mNameError\u001b[0m                                 Traceback (most recent call last)",
      "Cell \u001b[1;32mIn[9], line 3\u001b[0m\n\u001b[0;32m      1\u001b[0m builder \u001b[38;5;241m=\u001b[39m StateGraph(SophyState)\n\u001b[0;32m      2\u001b[0m builder\u001b[38;5;241m.\u001b[39madd_node(\u001b[38;5;124m\"\u001b[39m\u001b[38;5;124mAgent\u001b[39m\u001b[38;5;124m\"\u001b[39m,agent)\n\u001b[1;32m----> 3\u001b[0m builder\u001b[38;5;241m.\u001b[39madd_node(\u001b[38;5;124m\"\u001b[39m\u001b[38;5;124mSophy\u001b[39m\u001b[38;5;124m\"\u001b[39m,\u001b[43msophy_chat\u001b[49m)\n\u001b[0;32m      4\u001b[0m builder\u001b[38;5;241m.\u001b[39madd_node(\u001b[38;5;124m\"\u001b[39m\u001b[38;5;124mcompanyQA\u001b[39m\u001b[38;5;124m\"\u001b[39m,company_qa)\n\u001b[0;32m      5\u001b[0m builder\u001b[38;5;241m.\u001b[39madd_node(\u001b[38;5;124m\"\u001b[39m\u001b[38;5;124mcrisisHandler\u001b[39m\u001b[38;5;124m\"\u001b[39m,crisis_handler)\n",
      "\u001b[1;31mNameError\u001b[0m: name 'sophy_chat' is not defined"
     ]
    }
   ],
   "source": [
    "builder = StateGraph(SophyState)\n",
    "builder.add_node(\"Agent\",agent)\n",
    "builder.add_node(\"Sophy\",sophy_chat)\n",
    "builder.add_node(\"companyQA\",company_qa)\n",
    "builder.add_node(\"crisisHandler\",crisis_handler)\n",
    "\n",
    "builder.add_edge(START, \"Agent\")\n",
    "builder.add_conditional_edges(\"Agent\", agent_edges)\n",
    "builder.add_edge(\"Sophy\",END)\n",
    "builder.add_edge(\"companyQA\",END)\n",
    "builder.add_edge(\"crisisHandler\",END)\n",
    "\n",
    "\n",
    "\n",
    "memory = MemorySaver()\n",
    "sophy_state_graph = builder.compile(\n",
    "    checkpointer=memory,\n",
    ")\n",
    "\n",
    "display_graph(sophy_state_graph)"
   ]
  },
  {
   "cell_type": "code",
   "execution_count": 9,
   "metadata": {},
   "outputs": [],
   "source": [
    "\n",
    "from langchain.prompts import ChatPromptTemplate"
   ]
  },
  {
   "cell_type": "code",
   "execution_count": null,
   "metadata": {},
   "outputs": [
    {
     "name": "stderr",
     "output_type": "stream",
     "text": [
      "<>:1: SyntaxWarning: invalid escape sequence '\\c'\n",
      "<>:1: SyntaxWarning: invalid escape sequence '\\c'\n",
      "C:\\Users\\Saran\\AppData\\Local\\Temp\\ipykernel_39616\\4090440717.py:1: SyntaxWarning: invalid escape sequence '\\c'\n",
      "  with open('res\\company.md',\"r\") as f:\n"
     ]
    }
   ],
   "source": [
    "with open('res\\company.md',\"r\") as f:\n",
    "  markdown_document = f.read()\n",
    "\n",
    "headers_to_split_on = [\n",
    "    (\"#\", \"Header 1\"),\n",
    "    (\"##\", \"Header 2\"),\n",
    "    (\"###\", \"Header 3\"),\n",
    "]\n",
    "\n",
    "markdown_splitter = MarkdownHeaderTextSplitter(headers_to_split_on)\n",
    "md_header_splits = markdown_splitter.split_text(markdown_document)"
   ]
  },
  {
   "cell_type": "code",
   "execution_count": null,
   "metadata": {},
   "outputs": [],
   "source": [
    "embeddings = OllamaEmbeddings(model=\"llama3.2:1b\")\n",
    "vectorstore=FAISS.from_documents(md_header_splits, embeddings)\n",
    "retriever=vectorstore.as_retriever()\n",
    "# ------------ unti here required -----------------#\n"
   ]
  },
  {
   "cell_type": "code",
   "execution_count": null,
   "metadata": {},
   "outputs": [],
   "source": []
  },
  {
   "cell_type": "code",
   "execution_count": 7,
   "metadata": {},
   "outputs": [],
   "source": [
    "r = AgentResponse(pickedRoute='continue_chat', reason=\"asdf\")"
   ]
  },
  {
   "cell_type": "code",
   "execution_count": 10,
   "metadata": {},
   "outputs": [
    {
     "ename": "AttributeError",
     "evalue": "'AgentResponse' object has no attribute 'get'",
     "output_type": "error",
     "traceback": [
      "\u001b[1;31m---------------------------------------------------------------------------\u001b[0m",
      "\u001b[1;31mAttributeError\u001b[0m                            Traceback (most recent call last)",
      "Cell \u001b[1;32mIn[10], line 1\u001b[0m\n\u001b[1;32m----> 1\u001b[0m \u001b[43mr\u001b[49m\u001b[38;5;241;43m.\u001b[39;49m\u001b[43mget\u001b[49m(\u001b[38;5;124m\"\u001b[39m\u001b[38;5;124mpickedRoute\u001b[39m\u001b[38;5;124m\"\u001b[39m)\n",
      "File \u001b[1;32md:\\ExtraAcads\\DS & AI\\github\\serene-solace-sophy\\sss-env\\Lib\\site-packages\\pydantic\\main.py:856\u001b[0m, in \u001b[0;36mBaseModel.__getattr__\u001b[1;34m(self, item)\u001b[0m\n\u001b[0;32m    853\u001b[0m     \u001b[38;5;28;01mreturn\u001b[39;00m \u001b[38;5;28msuper\u001b[39m()\u001b[38;5;241m.\u001b[39m\u001b[38;5;21m__getattribute__\u001b[39m(item)  \u001b[38;5;66;03m# Raises AttributeError if appropriate\u001b[39;00m\n\u001b[0;32m    854\u001b[0m \u001b[38;5;28;01melse\u001b[39;00m:\n\u001b[0;32m    855\u001b[0m     \u001b[38;5;66;03m# this is the current error\u001b[39;00m\n\u001b[1;32m--> 856\u001b[0m     \u001b[38;5;28;01mraise\u001b[39;00m \u001b[38;5;167;01mAttributeError\u001b[39;00m(\u001b[38;5;124mf\u001b[39m\u001b[38;5;124m'\u001b[39m\u001b[38;5;132;01m{\u001b[39;00m\u001b[38;5;28mtype\u001b[39m(\u001b[38;5;28mself\u001b[39m)\u001b[38;5;241m.\u001b[39m\u001b[38;5;18m__name__\u001b[39m\u001b[38;5;132;01m!r}\u001b[39;00m\u001b[38;5;124m object has no attribute \u001b[39m\u001b[38;5;132;01m{\u001b[39;00mitem\u001b[38;5;132;01m!r}\u001b[39;00m\u001b[38;5;124m'\u001b[39m)\n",
      "\u001b[1;31mAttributeError\u001b[0m: 'AgentResponse' object has no attribute 'get'"
     ]
    }
   ],
   "source": [
    "r.get(\"pickedRoute\")"
   ]
  },
  {
   "cell_type": "code",
   "execution_count": null,
   "metadata": {},
   "outputs": [],
   "source": []
  },
  {
   "cell_type": "code",
   "execution_count": null,
   "metadata": {},
   "outputs": [],
   "source": []
  }
 ],
 "metadata": {
  "kernelspec": {
   "display_name": "sss-env",
   "language": "python",
   "name": "python3"
  },
  "language_info": {
   "codemirror_mode": {
    "name": "ipython",
    "version": 3
   },
   "file_extension": ".py",
   "mimetype": "text/x-python",
   "name": "python",
   "nbconvert_exporter": "python",
   "pygments_lexer": "ipython3",
   "version": "3.12.8"
  }
 },
 "nbformat": 4,
 "nbformat_minor": 2
}
