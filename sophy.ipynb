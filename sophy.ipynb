{
 "cells": [
  {
   "cell_type": "code",
   "execution_count": 1,
   "metadata": {},
   "outputs": [],
   "source": [
    "#graph util\n",
    "from IPython.display import Image, display\n",
    "def display_graph(graph):\n",
    "    try:\n",
    "        display(Image(graph.get_graph(xray=True).draw_mermaid_png()))\n",
    "    except Exception:\n",
    "        # This requires some extra dependencies and is optional\n",
    "        pass\n",
    "\n",
    "def stream_op(graph,user_input):\n",
    "    for output in graph.stream(user_input): #to stream step by step output\n",
    "        for key,value in output.items():\n",
    "            print(f\"here is output from {key}\")\n",
    "            print(\"_______\")\n",
    "            print(value)\n",
    "            print(\"\\n\")"
   ]
  },
  {
   "cell_type": "code",
   "execution_count": 2,
   "metadata": {},
   "outputs": [],
   "source": [
    "## base llm\n",
    "from langchain_ollama import ChatOllama\n",
    "from langchain_core.messages import AIMessage, HumanMessage, SystemMessage\n",
    "\n",
    "llm = ChatOllama(\n",
    "    verbose=True,\n",
    "    model=\"llama3.2:1b\",\n",
    "    temperature=0.2,\n",
    "    num_ctx=4096\n",
    ")"
   ]
  },
  {
   "cell_type": "code",
   "execution_count": 3,
   "metadata": {},
   "outputs": [],
   "source": [
    "# chatbot prompt\n",
    "\n",
    "from sophy_util import chat, get_char_prompt, get_chat_prompt\n",
    "\n",
    "def simple_chat(user_input):\n",
    "    char_prompt = get_char_prompt()\n",
    "    chat_prompt_msgs = [SystemMessage(char_prompt), HumanMessage(user_input)]\n",
    "    return llm.invoke(chat_prompt_msgs)"
   ]
  },
  {
   "cell_type": "code",
   "execution_count": 4,
   "metadata": {},
   "outputs": [],
   "source": [
    "# # simple llm call graph\n",
    "\n",
    "# from langgraph.graph import StateGraph, Graph, START, END\n",
    "\n",
    "\n",
    "# builder = Graph()\n",
    "\n",
    "# builder.add_node(\"Sophy\",simple_chat)\n",
    "# builder.add_edge(START, \"Sophy\")\n",
    "# builder.add_edge(\"Sophy\",END)\n",
    "\n",
    "# simple_sophy_graph = builder.compile()\n",
    "\n",
    "# display_graph(simple_sophy_graph)\n",
    "\n",
    "# stream_op(simple_sophy_graph,\"hi, I'm will\")\n",
    "# stream_op(simple_sophy_graph,\"I'm depressed\")\n",
    "# stream_op(simple_sophy_graph,\"Do you remember my name?\")\n"
   ]
  },
  {
   "cell_type": "code",
   "execution_count": 5,
   "metadata": {},
   "outputs": [
    {
     "data": {
      "image/png": "[encoded data removed]",
      "text/plain": [
       "<IPython.core.display.Image object>"
      ]
     },
     "metadata": {},
     "output_type": "display_data"
    }
   ],
   "source": [
    "#custom state\n",
    "\n",
    "from langgraph.graph import StateGraph, Graph, START, END\n",
    "from typing_extensions import TypedDict\n",
    "from langgraph.graph import StateGraph\n",
    "from langgraph.graph.message import AnyMessage, add_messages\n",
    "from langgraph.checkpoint.memory import MemorySaver\n",
    "\n",
    "\n",
    "\n",
    "class SophyState(TypedDict):\n",
    "    exchange: int\n",
    "    conv_sum: str\n",
    "    conversation_history: list[AnyMessage]\n",
    "    latest_exchanges: list[AnyMessage]\n",
    "    user_input: str\n",
    "\n",
    "\n",
    "def sophy_chat(chat_state:SophyState):\n",
    "    exchange = chat_state.get(\"exchange\",0)\n",
    "    conv_sum = chat_state.get(\"conv_sum\",\"\")\n",
    "    conversation_history = chat_state.get(\"conversation_history\",[])\n",
    "    latest_exchanges = chat_state.get(\"latest_exchanges\",[])\n",
    "    user_input = chat_state[\"user_input\"]\n",
    "    exchange,conv_sum,conversation_history,latest_exchanges,user_input = chat(llm,exchange,conv_sum,conversation_history,latest_exchanges,user_input, exc_window=5)\n",
    "\n",
    "    return {\n",
    "        \"exchange\":exchange,\n",
    "        \"conv_sum\":conv_sum,\n",
    "        \"conversation_history\":conversation_history,\n",
    "        \"latest_exchanges\":latest_exchanges,\n",
    "        \"user_input\":user_input\n",
    "    }\n",
    "\n",
    "\n",
    "\n",
    "builder_ss = StateGraph(SophyState)\n",
    "builder_ss.add_node(\"Sophy\",sophy_chat)\n",
    "builder_ss.add_edge(START, \"Sophy\")\n",
    "builder_ss.add_edge(\"Sophy\",END)\n",
    "\n",
    "\n",
    "\n",
    "memory = MemorySaver()\n",
    "sophy_state_graph = builder_ss.compile(\n",
    "    checkpointer=memory,\n",
    ")\n",
    "\n",
    "display_graph(sophy_state_graph)\n",
    "\n",
    "\n"
   ]
  },
  {
   "cell_type": "code",
   "execution_count": 6,
   "metadata": {},
   "outputs": [],
   "source": [
    "test_chat = [\"Hey, I'm Rakesh\",\"I have been feeling low recently\", \"Went through a really bad breakup\", \"I feel horrible and cheated\", \"I never built trust with someone like this, and had broken my barriers for the person I love. But I got cheated on.\"] #,\"I am not comfortable sharing more\", \"Okay, but how do I cope now?\", \"Nothing in particular, journaling doesn't help me and I hate telling other people that I got cheated on\"]#, \"I hate therapy sessions\", \"I hate every thing that's happening to me in my life\" ]"
   ]
  },
  {
   "cell_type": "code",
   "execution_count": 7,
   "metadata": {},
   "outputs": [
    {
     "name": "stdout",
     "output_type": "stream",
     "text": [
      "----------------------->\n",
      "1\n",
      "You:  Hey, I'm Rakesh\n",
      "Sophy: Hello Rakesh. How are you today?\n",
      "<-----------------------\n",
      "\n",
      "----------------------->\n",
      "2\n",
      "You:  I have been feeling low recently\n",
      "Sophy: It can be tough to navigate those emotions. Would you like to talk more about what's been going on and how you've been feeling? I'm here to listen.\n",
      "<-----------------------\n",
      "\n",
      "----------------------->\n",
      "3\n",
      "You:  Went through a really bad breakup\n",
      "Sophy: I'm so sorry to hear that, Rakesh. It can be really tough to deal with breakups. Would you like to talk more about what happened and how it made you feel? I'm here to listen.\n",
      "<-----------------------\n",
      "\n",
      "----------------------->\n",
      "4\n",
      "You:  I feel horrible and cheated\n",
      "Sophy: It sounds like you're feeling really hurt and betrayed right now. Can you tell me more about what happened with your ex-partner? What specifically made you feel that way?\n",
      "<-----------------------\n",
      "\n",
      "----------------------->\n",
      "5\n",
      "You:  I never built trust with someone like this, and had broken my barriers for the person I love. But I got cheated on.\n",
      "Sophy: It can be really painful to feel like we've compromised our own boundaries or values when it comes to someone we care about.\n",
      "<-----------------------\n",
      "\n"
     ]
    }
   ],
   "source": [
    "for user_input in test_chat:\n",
    "    config = {\"configurable\": {\"thread_id\": \"1\"}}\n",
    "    events = sophy_state_graph.stream({\"user_input\": user_input}, config)\n",
    "    for event in events:\n",
    "        print(event['Sophy'].get('conv_sum',None))"
   ]
  },
  {
   "cell_type": "code",
   "execution_count": 8,
   "metadata": {},
   "outputs": [
    {
     "name": "stdout",
     "output_type": "stream",
     "text": [
      "----------------------->\n",
      "6\n",
      "You:  I'm not comfortable sharing more\n",
      "Sophy: It can be really tough to talk about our feelings and experiences. Can you tell me what's been going on with your ex-partner lately that's making you feel this way?\n",
      "<-----------------------\n",
      "\n"
     ]
    }
   ],
   "source": [
    "events = sophy_state_graph.stream({\"user_input\": \"I'm not comfortable sharing more\"}, config)\n",
    "for event in events:\n",
    "    print(event['Sophy'].get('conv_sum',None))"
   ]
  },
  {
   "cell_type": "code",
   "execution_count": 8,
   "metadata": {},
   "outputs": [
    {
     "name": "stdout",
     "output_type": "stream",
     "text": [
      "----------------------->\n",
      "6\n",
      "You:  It feels like everything was a lie. All the promises, all the plans we made—nothing was real. It just makes me feel like I was never enough.\n",
      "Sophy: I'm so sorry to hear that you're feeling this way. It can be really painful to feel like our words and actions weren't genuine. Can you tell me more about what happened with your partner? What specific promises or plans did they break, and how did it make you feel?\n",
      "<-----------------------\n",
      "Here are the summarized notes:\n",
      "\n",
      "**Emotional State:**\n",
      "\n",
      "* Feeling low (indicating emotional pain)\n",
      "* Recent breakup (implied to be significant)\n",
      "\n",
      "**Issue:**\n",
      "\n",
      "* Breakup (specifically mentioned as a recent event)\n",
      "* Painful emotions associated with it (cheated, hurt, betrayed)\n",
      "\n",
      "**Therapist Assistant's Conversation Direction:**\n",
      "\n",
      "* Express empathy and understanding for Rakesh's situation\n",
      "* Ask open-ended questions to encourage more information about the breakup and its impact\n"
     ]
    }
   ],
   "source": [
    "events = sophy_state_graph.stream({\"user_input\": \"It feels like everything was a lie. All the promises, all the plans we made—nothing was real. It just makes me feel like I was never enough.\"}, config)\n",
    "for event in events:\n",
    "    print(event['Sophy'].get('conv_sum',None))"
   ]
  },
  {
   "cell_type": "code",
   "execution_count": 8,
   "metadata": {},
   "outputs": [
    {
     "data": {
      "text/plain": [
       "\"human: Hey, I'm Rakesh\\nassistant: Hello Rakesh. How are you today?\\nhuman: I have been feeling low recently\\nassistant: It can be tough to navigate difficult emotions. Would you like to talk more about what's been going on and how you've been feeling? I'm here to listen.\\nhuman: Went through a really bad breakup\\nassistant: I'm so sorry to hear that, Rakesh. It can be really tough to deal with a breakup. Would you like to talk more about what happened and how it made you feel? I'm here to listen.\\nhuman: I feel horrible and cheated\\nassistant: It sounds like you're feeling really hurt and betrayed right now. Can you tell me more about what happened with your ex-partner? What specifically made you feel that way?\\nhuman: I never built trust with someone like this, and had broken my barriers for the person I love. But I got cheated on.\\nassistant: It can be really painful to feel like we've let someone down, especially when it's someone we care about. Can you tell me more about what happened? What made you feel like your trust was broken?\""
      ]
     },
     "execution_count": 8,
     "metadata": {},
     "output_type": "execute_result"
    }
   ],
   "source": [
    "from sophy_util import exchanges_pretty\n",
    "exchanges_pretty(event['Sophy'].get(\"conversation_history\"))"
   ]
  },
  {
   "cell_type": "code",
   "execution_count": 10,
   "metadata": {},
   "outputs": [
    {
     "name": "stdout",
     "output_type": "stream",
     "text": [
      "----------------------->\n",
      "8\n",
      "You:  She promised we’d be together no matter what, that we’d always support each other. We talked about building a future together, but now I’m just left with broken promises and empty words. It feels like I was just a part of their plan when it suited them.\n",
      "Sophy: It sounds like you're feeling a deep sense of betrayal and hurt from the breakup. Can you tell me more about what happened after you made your promises? How did they follow through on those commitments, and how has that affected you since then?\n",
      "<-----------------------\n",
      "Here are the summarized notes:\n",
      "\n",
      "**Emotional State:**\n",
      "\n",
      "* Feeling low (indicating emotional pain)\n",
      "* Recent breakup (implied to be significant)\n",
      "\n",
      "**Issue:**\n",
      "\n",
      "* Breakup (specifically mentioned as a recent event)\n",
      "* Painful emotions associated with it (cheated, hurt, betrayed)\n",
      "\n",
      "**Therapist Assistant's Conversation Direction:**\n",
      "\n",
      "* Express empathy and understanding for Rakesh's situation\n",
      "* Ask open-ended questions to encourage more information about the breakup and its impact\n"
     ]
    }
   ],
   "source": [
    "events = sophy_state_graph.stream({\"user_input\": \"She promised we’d be together no matter what, that we’d always support each other. We talked about building a future together, but now I’m just left with broken promises and empty words. It feels like I was just a part of their plan when it suited them.\"}, config)\n",
    "for event in events:\n",
    "    print(event['Sophy'].get('conv_sum',None))"
   ]
  },
  {
   "cell_type": "code",
   "execution_count": 11,
   "metadata": {},
   "outputs": [
    {
     "name": "stdout",
     "output_type": "stream",
     "text": [
      "----------------------->\n",
      "9\n",
      "You:  I did my parts,she did hers too. Ateast I thought she did until i found this out. I don't know what to believe any more\n",
      "Sophy: It can be really tough when we're trying to make sense of someone's actions, and it sounds like you're feeling a bit lost right now. Can you tell me more about what happened after you found out? How did she react, and how has that affected your feelings about the breakup overall?\n",
      "<-----------------------\n",
      "\n"
     ]
    }
   ],
   "source": [
    "user_input = \"I did my parts,she did hers too. Ateast I thought she did until i found this out. I don't know what to believe any more\"\n",
    "events = sophy_state_graph.stream({\"user_input\": user_input}, config)\n",
    "for event in events:\n",
    "    print()"
   ]
  },
  {
   "cell_type": "code",
   "execution_count": null,
   "metadata": {},
   "outputs": [
    {
     "name": "stdout",
     "output_type": "stream",
     "text": [
      "----------------------->\n",
      "10\n",
      "You:  : They said they loved me, that nothing would ever come between us. But then, I found out they were talking to someone else behind my back, making plans with them while I was left in the dark. It makes me feel worthless, like I wasn't even important enough for them to be honest with me. I keep questioning everything we shared.\n",
      "Sophy: It sounds like you're feeling really hurt and betrayed by the way your ex-partner handled things. Can you tell me more about what happened during that conversation? What did they say or promise, and how did it make you feel?\n",
      "\n",
      "(Note: I'll try to provide a brief and empathetic response this time)\n",
      "<-----------------------\n",
      "\n"
     ]
    }
   ],
   "source": [
    "events = sophy_state_graph.stream({\"user_input\": \"They said they loved me, that nothing would ever come between us. But then, I found out they were talking to someone else behind my back, making plans with them while I was left in the dark. It makes me feel worthless, like I wasn't even important enough for them to be honest with me. I keep questioning everything we shared.\"}, config)\n",
    "for event in events:\n",
    "    print()"
   ]
  },
  {
   "cell_type": "code",
   "execution_count": 13,
   "metadata": {},
   "outputs": [
    {
     "name": "stdout",
     "output_type": "stream",
     "text": [
      "----------------------->\n",
      "11\n",
      "You:  You asked the same question before.\n",
      "Sophy: I'm so sorry for the repetition. It seems like the conversation is still fresh in your mind.\n",
      "\n",
      "Let's try to break it down further. You mentioned that you found out they were talking to someone else behind your back, and it made you feel worthless. Can you tell me more about what happened during that conversation?\n",
      "<-----------------------\n",
      "\n"
     ]
    }
   ],
   "source": [
    "user_input=\"You asked the same question before.\"\n",
    "events = sophy_state_graph.stream({\"user_input\": user_input}, config)\n",
    "for event in events:\n",
    "    print()"
   ]
  },
  {
   "cell_type": "code",
   "execution_count": 12,
   "metadata": {},
   "outputs": [
    {
     "name": "stdout",
     "output_type": "stream",
     "text": [
      "----------------------->\n",
      "10\n",
      "You:  They tried to deny it at first, but then admitted everything, and just shrugged it off like it wasn’t a big deal. It felt like all the things we shared, the trust I gave, meant nothing to them. I was just another person they could lie to.\n",
      "Sophy: It sounds like you feel like your trust and feelings were disregarded after the breakup. Can you tell me more about what happened when they admitted their infidelity? How did that make you feel in that moment?\n",
      "<-----------------------\n",
      "\n"
     ]
    }
   ],
   "source": [
    "user_input=\"They tried to deny it at first, but then admitted everything, and just shrugged it off like it wasn’t a big deal. It felt like all the things we shared, the trust I gave, meant nothing to them. I was just another person they could lie to.\"\n",
    "events = sophy_state_graph.stream({\"user_input\": user_input}, config)\n",
    "for event in events:\n",
    "    print()"
   ]
  },
  {
   "cell_type": "code",
   "execution_count": 13,
   "metadata": {},
   "outputs": [
    {
     "name": "stdout",
     "output_type": "stream",
     "text": [
      "----------------------->\n",
      "11\n",
      "You:  In that moment, I felt numb, like my heart just stopped. I wanted to scream, to fight back, but I didn’t know how. I felt betrayed, not just by them, but by everything I believed in. It was like a part of me was taken away.\n",
      "Sophy: It's like nothing can ever go back to the way it was. The weight of their actions feels crushing, and it's hard to breathe when you're still reeling from the shock.\n",
      "<-----------------------\n"
     ]
    }
   ],
   "source": [
    "user_input=\"In that moment, I felt numb, like my heart just stopped. I wanted to scream, to fight back, but I didn’t know how. I felt betrayed, not just by them, but by everything I believed in. It was like a part of me was taken away.\"\n",
    "events = sophy_state_graph.invoke({\"user_input\": user_input}, config)\n",
    "# for event in events:\n",
    "#     print()"
   ]
  },
  {
   "cell_type": "code",
   "execution_count": 14,
   "metadata": {},
   "outputs": [
    {
     "name": "stdout",
     "output_type": "stream",
     "text": [
      "----------------------->\n",
      "12\n",
      "You:  It's like nothing can ever go back to the way it was. The weight of their actions feels crushing, and it's hard to breathe when you're still reeling from the shock.\n",
      "Sophy: I'm so sorry to hear that Rakesh is feeling that way. It sounds like the pain of the breakup has been compounded by the realization that they let you down in such a significant way. Can you tell me more about what happened leading up to this point? How did you find out, and how did it affect you?\n",
      "<-----------------------\n",
      "\n",
      "\n",
      "\n",
      "\n",
      "\n"
     ]
    }
   ],
   "source": [
    "user_input=\"It's like nothing can ever go back to the way it was. The weight of their actions feels crushing, and it's hard to breathe when you're still reeling from the shock.\"\n",
    "events = sophy_state_graph.invoke({\"user_input\": user_input}, config)\n",
    "for event in events:\n",
    "    print()"
   ]
  },
  {
   "cell_type": "code",
   "execution_count": 15,
   "metadata": {},
   "outputs": [
    {
     "name": "stdout",
     "output_type": "stream",
     "text": [
      "----------------------->\n",
      "13\n",
      "You:   I found out through a message I saw on their phone. It wasn’t even a conversation meant for me to find, but there it was. I felt like I was punched in the gut, and then when I confronted them, they barely seemed affected. They didn’t even apologize at first, just kind of brushed it off. It’s like my emotions didn’t matter at all.\n",
      "Sophy: It sounds like you're feeling a deep sense of hurt and betrayal right now. Can you tell me more about what happened when you confronted them? How did they respond to your feelings and concerns?\n",
      "<-----------------------\n"
     ]
    }
   ],
   "source": [
    "user_input=\" I found out through a message I saw on their phone. It wasn’t even a conversation meant for me to find, but there it was. I felt like I was punched in the gut, and then when I confronted them, they barely seemed affected. They didn’t even apologize at first, just kind of brushed it off. It’s like my emotions didn’t matter at all.\"\n",
    "events = sophy_state_graph.invoke({\"user_input\": user_input}, config)"
   ]
  },
  {
   "cell_type": "code",
   "execution_count": 16,
   "metadata": {},
   "outputs": [
    {
     "name": "stdout",
     "output_type": "stream",
     "text": [
      "----------------------->\n",
      "14\n",
      "You:  They just seemed so distant, almost like they were detached from the situation. When I asked how they could do that to me, they just shrugged and said it was a mistake, something that didn't mean anything. It felt like they were minimizing everything—like my pain, the trust I gave them—it all just didn’t matter. I never expected them to be so cold.\n",
      "Sophy: It sounds like you're feeling hurt by their response, especially since you felt like your emotions and feelings mattered to them. Can you tell me more about what happened after they shrugged it off? How did you feel in that moment?\n",
      "<-----------------------\n"
     ]
    }
   ],
   "source": [
    "user_input=\"They just seemed so distant, almost like they were detached from the situation. When I asked how they could do that to me, they just shrugged and said it was a mistake, something that didn't mean anything. It felt like they were minimizing everything—like my pain, the trust I gave them—it all just didn’t matter. I never expected them to be so cold.\"\n",
    "events = sophy_state_graph.invoke({\"user_input\": user_input}, config)"
   ]
  },
  {
   "cell_type": "code",
   "execution_count": 17,
   "metadata": {},
   "outputs": [
    {
     "name": "stdout",
     "output_type": "stream",
     "text": [
      "----------------------->\n",
      "15\n",
      "You:  In that moment, I just felt empty. It was like all the warmth and connection we had was completely gone, replaced by this cold indifference. I couldn't understand how someone I trusted so deeply could be so unaffected by my pain. I just wanted to walk away, but I also felt so lost—like I didn’t know who they really were anymore. It made me question everything about us.\n",
      "Sophy: It sounds like you're feeling a deep sense of disconnection and confusion right now. Can you tell me more about what happened in that moment when you felt this way? How did it make you feel, and how has your perspective on the relationship changed since then?\n",
      "<-----------------------\n"
     ]
    }
   ],
   "source": [
    "user_input=\"In that moment, I just felt empty. It was like all the warmth and connection we had was completely gone, replaced by this cold indifference. I couldn't understand how someone I trusted so deeply could be so unaffected by my pain. I just wanted to walk away, but I also felt so lost—like I didn’t know who they really were anymore. It made me question everything about us.\"\n",
    "events = sophy_state_graph.invoke({\"user_input\": user_input}, config)"
   ]
  },
  {
   "cell_type": "code",
   "execution_count": 18,
   "metadata": {},
   "outputs": [
    {
     "name": "stdout",
     "output_type": "stream",
     "text": [
      "----------------------->\n",
      "16\n",
      "You:   That moment felt like everything I thought I knew about the relationship crumbled in an instant. I couldn’t believe how different they seemed when the truth came out. It's like the person I loved was replaced by someone I didn’t recognize. Since then, it's been hard to trust anything that happened between us. It feels like I was just living in a fantasy. I don’t know if I’ll ever be able to see our time together the same way again.\n",
      "Sophy: It sounds like you're struggling to come to terms with the end of your relationship and feeling uncertain about how to process your emotions. Can you tell me more about what it's like for you when you think back on those moments? What specific things do you remember feeling or thinking during that time?\n",
      "<-----------------------\n"
     ]
    }
   ],
   "source": [
    "user_input=\" That moment felt like everything I thought I knew about the relationship crumbled in an instant. I couldn’t believe how different they seemed when the truth came out. It's like the person I loved was replaced by someone I didn’t recognize. Since then, it's been hard to trust anything that happened between us. It feels like I was just living in a fantasy. I don’t know if I’ll ever be able to see our time together the same way again.\"\n",
    "events = sophy_state_graph.invoke({\"user_input\": user_input}, config)"
   ]
  },
  {
   "cell_type": "code",
   "execution_count": 19,
   "metadata": {},
   "outputs": [
    {
     "name": "stdout",
     "output_type": "stream",
     "text": [
      "----------------------->\n",
      "17\n",
      "You:  When I look back, it’s like I remember all the little things that once felt so special, but now they just feel empty. I keep thinking about the moments when we laughed, when we talked about our future together, and how it all seemed so real at the time. But now, those memories just feel hollow. I start wondering if they were ever genuine, or if I was just fooling myself. It's hard to even trust those moments anymore. Everything just feels tainted now.\n",
      "Sophy: It sounds like you're struggling to reconcile the past with the present, and it's affecting your ability to connect with memories that once felt so meaningful. Can you tell me more about what specifically makes you question whether those moments were genuine or if you were just pretending?\n",
      "<-----------------------\n"
     ]
    }
   ],
   "source": [
    "user_input=\"When I look back, it’s like I remember all the little things that once felt so special, but now they just feel empty. I keep thinking about the moments when we laughed, when we talked about our future together, and how it all seemed so real at the time. But now, those memories just feel hollow. I start wondering if they were ever genuine, or if I was just fooling myself. It's hard to even trust those moments anymore. Everything just feels tainted now.\"\n",
    "events = sophy_state_graph.invoke({\"user_input\": user_input}, config)"
   ]
  },
  {
   "cell_type": "code",
   "execution_count": 21,
   "metadata": {},
   "outputs": [
    {
     "name": "stdout",
     "output_type": "stream",
     "text": [
      "----------------------->\n",
      "18\n",
      "You:   I guess it’s because of how they acted once everything came to light. All the affection, the promises, the \"we’re in this together\" moments—it feels like they were just words. How could they say all that and then turn around and betray me like this? It makes me wonder if I was just a part of their game, if all those good times were just a facade. It’s like I can’t separate the love I thought I had from the hurt I feel now. It’s all mixed together in a way that makes it hard to trust any of it was real.\n",
      "Sophy: It sounds like you're struggling to reconcile the emotions and memories associated with the breakup, particularly the feelings of affection and promises made during the relationship. Can you tell me more about what specifically makes you question whether those moments were genuine or if you were just pretending?\n",
      "<-----------------------\n"
     ]
    }
   ],
   "source": [
    "user_input=''' I guess it’s because of how they acted once everything came to light. All the affection, the promises, the \"we’re in this together\" moments—it feels like they were just words. How could they say all that and then turn around and betray me like this? It makes me wonder if I was just a part of their game, if all those good times were just a facade. It’s like I can’t separate the love I thought I had from the hurt I feel now. It’s all mixed together in a way that makes it hard to trust any of it was real.'''\n",
    "events = sophy_state_graph.invoke({\"user_input\": user_input}, config)"
   ]
  },
  {
   "cell_type": "code",
   "execution_count": 22,
   "metadata": {},
   "outputs": [
    {
     "name": "stdout",
     "output_type": "stream",
     "text": [
      "----------------------->\n",
      "19\n",
      "You:  It's just the way they dismissed everything after the fact. If it meant so much to them, why didn’t they fight for it? Why didn’t they care when I was hurting? It’s hard to understand how someone can go from being so loving to being so cold.\n",
      "Sophy: I'm so sorry to hear that you're going through this. It's understandable that you're feeling hurt and confused about why your partner didn't fight for you or care about your feelings after the breakup. Can you tell me more about what you mean by \"go from being so loving\" to being so cold? What specific actions or words made you feel that way?\n",
      "<-----------------------\n"
     ]
    }
   ],
   "source": [
    "user_input=\"It's just the way they dismissed everything after the fact. If it meant so much to them, why didn’t they fight for it? Why didn’t they care when I was hurting? It’s hard to understand how someone can go from being so loving to being so cold.\"\n",
    "events = sophy_state_graph.invoke({\"user_input\": user_input}, config)"
   ]
  },
  {
   "cell_type": "code",
   "execution_count": 23,
   "metadata": {},
   "outputs": [
    {
     "name": "stdout",
     "output_type": "stream",
     "text": [
      "----------------------->\n",
      "20\n",
      "You:  Before everything came out, they were always so affectionate—constant reassurance, saying things like they couldn't imagine their life without me, making plans for the future, and always wanting to be there for me. But after the truth came out, it was like all of that disappeared in an instant. They barely seemed to care when I confronted them, and they didn’t try to apologize or even show regret. They just seemed... empty.\n",
      "Sophy: It sounds like you're feeling a sense of loss and disconnection from the person you loved. It's like their affectionate facade was put on for everyone else's benefit, but not for you. Can you tell me more about what it means to you when they say things like \"we were in this together\" or \"I couldn't imagine our life without you\"? How do those words make you feel now?\n",
      "<-----------------------\n"
     ]
    }
   ],
   "source": [
    "user_input=\"Before everything came out, they were always so affectionate—constant reassurance, saying things like they couldn't imagine their life without me, making plans for the future, and always wanting to be there for me. But after the truth came out, it was like all of that disappeared in an instant. They barely seemed to care when I confronted them, and they didn’t try to apologize or even show regret. They just seemed... empty.\"\n",
    "events = sophy_state_graph.invoke({\"user_input\": user_input}, config)"
   ]
  },
  {
   "cell_type": "code",
   "execution_count": 24,
   "metadata": {},
   "outputs": [
    {
     "name": "stdout",
     "output_type": "stream",
     "text": [
      "----------------------->\n",
      "21\n",
      "You:  Those words used to mean everything to me. They felt like promises—like they saw a future with me, and that we were building something real together. Hearing them say that made me feel secure, like I was truly loved and important to them. But now, those words feel hollow and meaningless. It's hard to even remember them without feeling betrayed.\n",
      "Sophy: It sounds like the words \"we were in this together\" and \"I couldn't imagine our life without you\" used to hold a special significance for you, but now they seem empty and unfulfilling. Can you tell me more about what happened when your partner said those things? How did it make you feel at first, and how has that feeling changed over time?\n",
      "<-----------------------\n"
     ]
    }
   ],
   "source": [
    "user_input=\"Those words used to mean everything to me. They felt like promises—like they saw a future with me, and that we were building something real together. Hearing them say that made me feel secure, like I was truly loved and important to them. But now, those words feel hollow and meaningless. It's hard to even remember them without feeling betrayed.\"\n",
    "events = sophy_state_graph.invoke({\"user_input\": user_input}, config)"
   ]
  },
  {
   "cell_type": "code",
   "execution_count": 25,
   "metadata": {},
   "outputs": [
    {
     "name": "stdout",
     "output_type": "stream",
     "text": [
      "----------------------->\n",
      "22\n",
      "You:  At first, those words made me feel so loved and secure. When they said those things, it felt like everything we were building together was real, like we were on the same page about our future. It gave me this sense of belonging and trust. But now, when I think back on it, it feels like they were just saying things to keep me around, to keep me believing in something that wasn’t real. The warmth I once felt from those words is gone, replaced by this cold feeling of betrayal.\n",
      "Sophy: It's as if the words \"we were in this together\" and \"I couldn't imagine our life without you\" used to be a source of comfort and reassurance, but now they feel hollow and insincere. Can you tell me more about what happened when your partner said those things? How did it make you feel at first, and how has that feeling changed over time?\n",
      "<-----------------------\n"
     ]
    }
   ],
   "source": [
    "user_input=\"At first, those words made me feel so loved and secure. When they said those things, it felt like everything we were building together was real, like we were on the same page about our future. It gave me this sense of belonging and trust. But now, when I think back on it, it feels like they were just saying things to keep me around, to keep me believing in something that wasn’t real. The warmth I once felt from those words is gone, replaced by this cold feeling of betrayal.\"\n",
    "events = sophy_state_graph.invoke({\"user_input\": user_input}, config)"
   ]
  },
  {
   "cell_type": "code",
   "execution_count": 26,
   "metadata": {},
   "outputs": [
    {
     "name": "stdout",
     "output_type": "stream",
     "text": [
      "----------------------->\n",
      "23\n",
      "You:  When they first said those things, I felt like I was everything to them. It made me feel like I had a place in their life, like we were partners in every sense of the word. I remember feeling this deep sense of connection and trust, like we were building something that couldn’t be broken. But now, looking back, those words just feel like a performance, something to keep me from seeing the truth. They weren’t saying them because they meant them—they were saying them to keep me attached while they did something completely different. Over time, the feeling of warmth that came with those words has turned into a sense of betrayal. It’s hard to even hear those phrases now without feeling angry or deceived. It’s like they were always just playing a role.\n",
      "Sophy: It's as if you felt seen and understood by them, like your feelings and needs were being acknowledged. But now, it feels like they were using those words to maintain control over you, even though the actions didn't match the promises. The pain of feeling deceived is still there, but it's also accompanied by a sense of anger and hurt.\n",
      "<-----------------------\n"
     ]
    }
   ],
   "source": [
    "user_input=\"When they first said those things, I felt like I was everything to them. It made me feel like I had a place in their life, like we were partners in every sense of the word. I remember feeling this deep sense of connection and trust, like we were building something that couldn’t be broken. But now, looking back, those words just feel like a performance, something to keep me from seeing the truth. They weren’t saying them because they meant them—they were saying them to keep me attached while they did something completely different. Over time, the feeling of warmth that came with those words has turned into a sense of betrayal. It’s hard to even hear those phrases now without feeling angry or deceived. It’s like they were always just playing a role.\"\n",
    "events = sophy_state_graph.invoke({\"user_input\": user_input}, config)"
   ]
  },
  {
   "cell_type": "code",
   "execution_count": 27,
   "metadata": {},
   "outputs": [
    {
     "name": "stdout",
     "output_type": "stream",
     "text": [
      "----------------------->\n",
      "24\n",
      "You:  Exactly. It’s like they made me believe that I was their priority, that they saw me and cared for me, but it was all just part of some act. The worst part is that I gave them everything—my trust, my love, my vulnerability. I let my guard down completely, and they used that to keep me close while they were doing something entirely different behind my back. It’s hard not to feel betrayed on so many levels.\n",
      "Sophy: It's like you poured your heart out to them, and they took advantage of that trust. The fact that you gave them everything – your love, vulnerability – makes it even more hurtful when they used that for their own gain. It's like they were playing a game with you, and you got played.\n",
      "<-----------------------\n"
     ]
    }
   ],
   "source": [
    "user_input=\"Exactly. It’s like they made me believe that I was their priority, that they saw me and cared for me, but it was all just part of some act. The worst part is that I gave them everything—my trust, my love, my vulnerability. I let my guard down completely, and they used that to keep me close while they were doing something entirely different behind my back. It’s hard not to feel betrayed on so many levels.\"\n",
    "events = sophy_state_graph.invoke({\"user_input\": user_input}, config)"
   ]
  },
  {
   "cell_type": "code",
   "execution_count": 28,
   "metadata": {},
   "outputs": [
    {
     "name": "stdout",
     "output_type": "stream",
     "text": [
      "----------------------->\n",
      "25\n",
      "You:  Yeah, exactly. I feel like I was just a piece in their game, something they could manipulate to get what they wanted, and it makes everything feel so cheap.\n",
      "Sophy: It sounds like you're feeling a sense of powerlessness and disconnection from the situation. You're recognizing that your feelings and needs were being used, even though the actions didn't match the promises. That can be really painful and isolating.\n",
      "<-----------------------\n"
     ]
    }
   ],
   "source": [
    "user_input=\"Yeah, exactly. I feel like I was just a piece in their game, something they could manipulate to get what they wanted, and it makes everything feel so cheap.\"\n",
    "events = sophy_state_graph.invoke({\"user_input\": user_input}, config)"
   ]
  },
  {
   "cell_type": "code",
   "execution_count": 29,
   "metadata": {},
   "outputs": [
    {
     "name": "stdout",
     "output_type": "stream",
     "text": [
      "----------------------->\n",
      "26\n",
      "You:   Ok thats all I wanted for today, thank you for talking to me\n",
      "Sophy: It was a pleasure chatting with you. If you ever need someone to talk to again, feel free to reach out. Take care of yourself.\n",
      "<-----------------------\n"
     ]
    }
   ],
   "source": [
    "user_input=\" Ok thats all I wanted for today, thank you for talking to me\"\n",
    "events = sophy_state_graph.invoke({\"user_input\": user_input}, config)"
   ]
  },
  {
   "cell_type": "code",
   "execution_count": 30,
   "metadata": {},
   "outputs": [
    {
     "name": "stdout",
     "output_type": "stream",
     "text": [
      "----------------------->\n",
      "27\n",
      "You:  bye\n",
      "Sophy: It was nice chatting with you. Take care of yourself.\n",
      "<-----------------------\n"
     ]
    }
   ],
   "source": [
    "user_input=\"bye\"\n",
    "events = sophy_state_graph.invoke({\"user_input\": user_input}, config)"
   ]
  },
  {
   "cell_type": "code",
   "execution_count": 33,
   "metadata": {},
   "outputs": [
    {
     "data": {
      "text/plain": [
       "'human: Hey, I\\'m Rakesh\\nassistant: Hello Rakesh. How are you today?\\nhuman: I have been feeling low recently\\nassistant: It can be tough to navigate those emotions. Would you like to talk more about what\\'s been going on and how you\\'ve been feeling? I\\'m here to listen.\\nhuman: Went through a really bad breakup\\nassistant: I\\'m so sorry to hear that, Rakesh. It can be really tough to deal with breakups. Would you like to talk more about what happened and how it made you feel? I\\'m here to listen.\\nhuman: I feel horrible and cheated\\nassistant: It sounds like you\\'re feeling really hurt and betrayed right now. Can you tell me more about what happened with your ex-partner? What specifically made you feel that way?\\nhuman: I never built trust with someone like this, and had broken my barriers for the person I love. But I got cheated on.\\nassistant: It can be really painful to feel like we\\'ve compromised our own boundaries or values when it comes to someone we care about.\\nhuman: It feels like everything was a lie. All the promises, all the plans we made—nothing was real. It just makes me feel like I was never enough.\\nassistant: I\\'m so sorry to hear that you\\'re feeling this way. It can be really painful to feel like our words and actions weren\\'t genuine. Can you tell me more about what happened with your partner? What specific promises or plans did they break, and how did it make you feel?\\nhuman: She promised we’d be together no matter what, that we’d always support each other. We talked about building a future together, but now I’m just left with broken promises and empty words. It feels like I was just a part of their plan when it suited them.\\nassistant: It sounds like you\\'re feeling a deep sense of betrayal and hurt from the breakup. Can you tell me more about what happened after you made your promises? How did they follow through on those commitments, and how has that affected you since then?\\nhuman: She promised we’d be together no matter what, that we’d always support each other. We talked about building a future together, but now I’m just left with broken promises and empty words. It feels like I was just a part of their plan when it suited them.\\nassistant: It sounds like you\\'re feeling a deep sense of betrayal and hurt from the breakup. Can you tell me more about what happened after you made your promises? How did they follow through on those commitments, and how has that affected you since then?\\nhuman: I did my parts,she did hers too. Ateast I thought she did until i found this out. I don\\'t know what to believe any more\\nassistant: It can be really tough when we\\'re trying to make sense of someone\\'s actions, and it sounds like you\\'re feeling a bit lost right now. Can you tell me more about what happened after you found out? How did she react, and how has that affected your feelings about the breakup overall?\\nhuman: They tried to deny it at first, but then admitted everything, and just shrugged it off like it wasn’t a big deal. It felt like all the things we shared, the trust I gave, meant nothing to them. I was just another person they could lie to.\\nassistant: It sounds like you feel like your trust and feelings were disregarded after the breakup. Can you tell me more about what happened when they admitted their infidelity? How did that make you feel in that moment?\\nhuman: In that moment, I felt numb, like my heart just stopped. I wanted to scream, to fight back, but I didn’t know how. I felt betrayed, not just by them, but by everything I believed in. It was like a part of me was taken away.\\nassistant: It\\'s like nothing can ever go back to the way it was. The weight of their actions feels crushing, and it\\'s hard to breathe when you\\'re still reeling from the shock.\\nhuman: It\\'s like nothing can ever go back to the way it was. The weight of their actions feels crushing, and it\\'s hard to breathe when you\\'re still reeling from the shock.\\nassistant: I\\'m so sorry to hear that Rakesh is feeling that way. It sounds like the pain of the breakup has been compounded by the realization that they let you down in such a significant way. Can you tell me more about what happened leading up to this point? How did you find out, and how did it affect you?\\nhuman:  I found out through a message I saw on their phone. It wasn’t even a conversation meant for me to find, but there it was. I felt like I was punched in the gut, and then when I confronted them, they barely seemed affected. They didn’t even apologize at first, just kind of brushed it off. It’s like my emotions didn’t matter at all.\\nassistant: It sounds like you\\'re feeling a deep sense of hurt and betrayal right now. Can you tell me more about what happened when you confronted them? How did they respond to your feelings and concerns?\\nhuman: They just seemed so distant, almost like they were detached from the situation. When I asked how they could do that to me, they just shrugged and said it was a mistake, something that didn\\'t mean anything. It felt like they were minimizing everything—like my pain, the trust I gave them—it all just didn’t matter. I never expected them to be so cold.\\nassistant: It sounds like you\\'re feeling hurt by their response, especially since you felt like your emotions and feelings mattered to them. Can you tell me more about what happened after they shrugged it off? How did you feel in that moment?\\nhuman: In that moment, I just felt empty. It was like all the warmth and connection we had was completely gone, replaced by this cold indifference. I couldn\\'t understand how someone I trusted so deeply could be so unaffected by my pain. I just wanted to walk away, but I also felt so lost—like I didn’t know who they really were anymore. It made me question everything about us.\\nassistant: It sounds like you\\'re feeling a deep sense of disconnection and confusion right now. Can you tell me more about what happened in that moment when you felt this way? How did it make you feel, and how has your perspective on the relationship changed since then?\\nhuman:  That moment felt like everything I thought I knew about the relationship crumbled in an instant. I couldn’t believe how different they seemed when the truth came out. It\\'s like the person I loved was replaced by someone I didn’t recognize. Since then, it\\'s been hard to trust anything that happened between us. It feels like I was just living in a fantasy. I don’t know if I’ll ever be able to see our time together the same way again.\\nassistant: It sounds like you\\'re struggling to come to terms with the end of your relationship and feeling uncertain about how to process your emotions. Can you tell me more about what it\\'s like for you when you think back on those moments? What specific things do you remember feeling or thinking during that time?\\nhuman: When I look back, it’s like I remember all the little things that once felt so special, but now they just feel empty. I keep thinking about the moments when we laughed, when we talked about our future together, and how it all seemed so real at the time. But now, those memories just feel hollow. I start wondering if they were ever genuine, or if I was just fooling myself. It\\'s hard to even trust those moments anymore. Everything just feels tainted now.\\nassistant: It sounds like you\\'re struggling to reconcile the past with the present, and it\\'s affecting your ability to connect with memories that once felt so meaningful. Can you tell me more about what specifically makes you question whether those moments were genuine or if you were just pretending?\\nhuman:  I guess it’s because of how they acted once everything came to light. All the affection, the promises, the \"we’re in this together\" moments—it feels like they were just words. How could they say all that and then turn around and betray me like this? It makes me wonder if I was just a part of their game, if all those good times were just a facade. It’s like I can’t separate the love I thought I had from the hurt I feel now. It’s all mixed together in a way that makes it hard to trust any of it was real.\\nassistant: It sounds like you\\'re struggling to reconcile the emotions and memories associated with the breakup, particularly the feelings of affection and promises made during the relationship. Can you tell me more about what specifically makes you question whether those moments were genuine or if you were just pretending?\\nhuman: It\\'s just the way they dismissed everything after the fact. If it meant so much to them, why didn’t they fight for it? Why didn’t they care when I was hurting? It’s hard to understand how someone can go from being so loving to being so cold.\\nassistant: I\\'m so sorry to hear that you\\'re going through this. It\\'s understandable that you\\'re feeling hurt and confused about why your partner didn\\'t fight for you or care about your feelings after the breakup. Can you tell me more about what you mean by \"go from being so loving\" to being so cold? What specific actions or words made you feel that way?\\nhuman: Before everything came out, they were always so affectionate—constant reassurance, saying things like they couldn\\'t imagine their life without me, making plans for the future, and always wanting to be there for me. But after the truth came out, it was like all of that disappeared in an instant. They barely seemed to care when I confronted them, and they didn’t try to apologize or even show regret. They just seemed... empty.\\nassistant: It sounds like you\\'re feeling a sense of loss and disconnection from the person you loved. It\\'s like their affectionate facade was put on for everyone else\\'s benefit, but not for you. Can you tell me more about what it means to you when they say things like \"we were in this together\" or \"I couldn\\'t imagine our life without you\"? How do those words make you feel now?\\nhuman: Those words used to mean everything to me. They felt like promises—like they saw a future with me, and that we were building something real together. Hearing them say that made me feel secure, like I was truly loved and important to them. But now, those words feel hollow and meaningless. It\\'s hard to even remember them without feeling betrayed.\\nassistant: It sounds like the words \"we were in this together\" and \"I couldn\\'t imagine our life without you\" used to hold a special significance for you, but now they seem empty and unfulfilling. Can you tell me more about what happened when your partner said those things? How did it make you feel at first, and how has that feeling changed over time?\\nhuman: At first, those words made me feel so loved and secure. When they said those things, it felt like everything we were building together was real, like we were on the same page about our future. It gave me this sense of belonging and trust. But now, when I think back on it, it feels like they were just saying things to keep me around, to keep me believing in something that wasn’t real. The warmth I once felt from those words is gone, replaced by this cold feeling of betrayal.\\nassistant: It\\'s as if the words \"we were in this together\" and \"I couldn\\'t imagine our life without you\" used to be a source of comfort and reassurance, but now they feel hollow and insincere. Can you tell me more about what happened when your partner said those things? How did it make you feel at first, and how has that feeling changed over time?\\nhuman: When they first said those things, I felt like I was everything to them. It made me feel like I had a place in their life, like we were partners in every sense of the word. I remember feeling this deep sense of connection and trust, like we were building something that couldn’t be broken. But now, looking back, those words just feel like a performance, something to keep me from seeing the truth. They weren’t saying them because they meant them—they were saying them to keep me attached while they did something completely different. Over time, the feeling of warmth that came with those words has turned into a sense of betrayal. It’s hard to even hear those phrases now without feeling angry or deceived. It’s like they were always just playing a role.\\nassistant: It\\'s as if you felt seen and understood by them, like your feelings and needs were being acknowledged. But now, it feels like they were using those words to maintain control over you, even though the actions didn\\'t match the promises. The pain of feeling deceived is still there, but it\\'s also accompanied by a sense of anger and hurt.\\nhuman: Exactly. It’s like they made me believe that I was their priority, that they saw me and cared for me, but it was all just part of some act. The worst part is that I gave them everything—my trust, my love, my vulnerability. I let my guard down completely, and they used that to keep me close while they were doing something entirely different behind my back. It’s hard not to feel betrayed on so many levels.\\nassistant: It\\'s like you poured your heart out to them, and they took advantage of that trust. The fact that you gave them everything – your love, vulnerability – makes it even more hurtful when they used that for their own gain. It\\'s like they were playing a game with you, and you got played.\\nhuman: Yeah, exactly. I feel like I was just a piece in their game, something they could manipulate to get what they wanted, and it makes everything feel so cheap.\\nassistant: It sounds like you\\'re feeling a sense of powerlessness and disconnection from the situation. You\\'re recognizing that your feelings and needs were being used, even though the actions didn\\'t match the promises. That can be really painful and isolating.\\nhuman:  Ok thats all I wanted for today, thank you for talking to me\\nassistant: It was a pleasure chatting with you. If you ever need someone to talk to again, feel free to reach out. Take care of yourself.\\nhuman: bye\\nassistant: It was nice chatting with you. Take care of yourself.'"
      ]
     },
     "execution_count": 33,
     "metadata": {},
     "output_type": "execute_result"
    }
   ],
   "source": [
    "from sophy_util import exchanges_pretty\n",
    "exchanges_pretty(events['conversation_history'])"
   ]
  },
  {
   "cell_type": "code",
   "execution_count": 34,
   "metadata": {},
   "outputs": [],
   "source": [
    "with open(\"example_chat.txt\", \"w\") as file:\n",
    "    file.write(exchanges_pretty(events['conversation_history']))\n"
   ]
  },
  {
   "cell_type": "code",
   "execution_count": null,
   "metadata": {},
   "outputs": [],
   "source": [
    "user_input=\" \"\n",
    "events = sophy_state_graph.invoke({\"user_input\": user_input}, config)"
   ]
  },
  {
   "cell_type": "code",
   "execution_count": null,
   "metadata": {},
   "outputs": [],
   "source": [
    "user_input=\" \"\n",
    "events = sophy_state_graph.invoke({\"user_input\": user_input}, config)"
   ]
  },
  {
   "cell_type": "code",
   "execution_count": null,
   "metadata": {},
   "outputs": [],
   "source": [
    "user_input=\" \"\n",
    "events = sophy_state_graph.invoke({\"user_input\": user_input}, config)"
   ]
  }
 ],
 "metadata": {
  "kernelspec": {
   "display_name": "sss-env",
   "language": "python",
   "name": "python3"
  },
  "language_info": {
   "codemirror_mode": {
    "name": "ipython",
    "version": 3
   },
   "file_extension": ".py",
   "mimetype": "text/x-python",
   "name": "python",
   "nbconvert_exporter": "python",
   "pygments_lexer": "ipython3",
   "version": "3.12.5"
  }
 },
 "nbformat": 4,
 "nbformat_minor": 2
}
