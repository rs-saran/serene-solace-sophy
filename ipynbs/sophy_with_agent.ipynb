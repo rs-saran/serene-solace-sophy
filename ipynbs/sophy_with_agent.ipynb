{
 "cells": [
  {
   "cell_type": "code",
   "execution_count": 8,
   "metadata": {},
   "outputs": [],
   "source": [
    "from sophy_util import chat, get_char_prompt, get_chat_prompt\n",
    "from graph_util import display_graph\n",
    "\n",
    "from langchain_groq import ChatGroq\n",
    "from langchain_core.messages import AIMessage, HumanMessage, SystemMessage\n",
    "from langgraph.graph import StateGraph, Graph, START, END\n",
    "from langgraph.graph import StateGraph\n",
    "from langgraph.graph.message import AnyMessage, add_messages\n",
    "from langgraph.checkpoint.memory import MemorySaver\n",
    "from typing_extensions import TypedDict\n",
    "\n",
    "from pydantic import BaseModel, Field"
   ]
  },
  {
   "cell_type": "code",
   "execution_count": 9,
   "metadata": {},
   "outputs": [],
   "source": [
    "ss_agent_key = \"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\"\n",
    "llm = ChatGroq(\n",
    "    model=\"llama-3.3-70b-versatile\",\n",
    "    api_key=ss_agent_key\n",
    ")\n",
    "\n",
    "\n",
    "class SophyState(TypedDict):\n",
    "    exchange: int\n",
    "    conv_sum: str\n",
    "    conversation_history: list[AnyMessage]\n",
    "    latest_exchanges: list[AnyMessage]\n",
    "    user_input: str\n",
    "    agent_response: str\n",
    "\n",
    "class AgentResponse(BaseModel):\n",
    "    \"Route to proceed in\"\n",
    "    pickedRoute: str = Field(description= \"The route to proceed in, can only be: 'continue_chat', 'crisis_hepline', 'resource_suggestion', 'end_chat' \")\n",
    "    reason: str = Field(description =\"Reason for picking the route\")\n",
    "\n",
    "llm_agent_response = llm.with_structured_output(AgentResponse)\n",
    "\n",
    "def sophy_chat(chat_state:SophyState):\n",
    "    exchange = chat_state.get(\"exchange\",0)\n",
    "    conv_sum = chat_state.get(\"conv_sum\",\"\")\n",
    "    conversation_history = chat_state.get(\"conversation_history\",[])\n",
    "    latest_exchanges = chat_state.get(\"latest_exchanges\",[])\n",
    "    user_input = chat_state[\"user_input\"]\n",
    "    exchange,conv_sum,conversation_history,latest_exchanges,user_input = chat(llm,exchange,conv_sum,conversation_history,latest_exchanges,user_input, exc_window=5)\n",
    "\n",
    "    return {\n",
    "        \"exchange\":exchange,\n",
    "        \"conv_sum\":conv_sum,\n",
    "        \"conversation_history\":conversation_history,\n",
    "        \"latest_exchanges\":latest_exchanges,\n",
    "        \"user_input\":user_input\n",
    "    }\n",
    "\n",
    "\n",
    "\n",
    "\n",
    "\n",
    "\n"
   ]
  },
  {
   "cell_type": "code",
   "execution_count": 10,
   "metadata": {},
   "outputs": [],
   "source": [
    "\n",
    "def agent(chat_state:SophyState):\n",
    "\n",
    "    conversation_history = chat_state.get(\"conversation_history\",[])\n",
    "    user_input = chat_state[\"user_input\"]\n",
    "\n",
    "    if len(conversation_history < 2):\n",
    "        select_conv = conversation_history\n",
    "    else:\n",
    "        select_conv = conversation_history[-2:]\n",
    "    \n",
    "    prompt = f'''\n",
    "        You are an autonoums agent in a mental health support chat system.\n",
    "\n",
    "        Based on the current human input and previous exchanges in the conversation pick the best route for the conversation to proceed in.\n",
    "        \n",
    "        Previous Exchanges:\n",
    "        {select_conv}\n",
    "        \n",
    "        Current Human Input:\n",
    "        {user_input}\n",
    "\n",
    "        Routes:\n",
    "        continue_chat : Normal chat route with mental health assistant\n",
    "        crisis_hepline : Speaclized route connects user to 24X7 crisis helpline to professionals will help the human avoid crisis like suicide and other harms.\n",
    "        resource_suggestion : Specialized provider of resources suggestions for coping techniques, therpaists contacts\n",
    "        end_chat : Specialized end message if the user intends to end the chat\n",
    "\n",
    "        If you can not provide answers for sucidial tendencies or harmful pick the crisis helpine route so that user can recieve help from professionals.\n",
    "\n",
    "        If undecided and there are no harmful intentions always pick continue_chat\n",
    "\n",
    "        '''\n",
    "    \n",
    "    agent_response  = llm_agent_response.invoke(prompt)\n",
    "    \n",
    "    return {\"agent_response\":agent_response}\n"
   ]
  },
  {
   "cell_type": "code",
   "execution_count": 19,
   "metadata": {},
   "outputs": [],
   "source": [
    "from typing import Union, Literal, Sequence\n",
    "\n",
    "def agent_edges(chat_state:SophyState) -> Union[Literal[\"Sophy\", \"crisisHandler\", \"resourceRAG\"],END]:\n",
    "    agent_reponse = chat_state.get(\"agent_response\")\n",
    "    picked_route = agent_reponse[\"pickedRoute\"]\n",
    "\n",
    "    if picked_route == 'continue_chat':\n",
    "        return \"Sophy\"\n",
    "    elif picked_route == 'crisis_helpline':\n",
    "        return \"crisisHandler\"\n",
    "    elif picked_route =='resource_suggestion':\n",
    "        return \"resourceRAG\"\n",
    "    elif picked_route =='end_chat':\n",
    "        return END\n",
    "    else:\n",
    "        return \"Sophy\"\n",
    "\n"
   ]
  },
  {
   "cell_type": "code",
   "execution_count": 17,
   "metadata": {},
   "outputs": [],
   "source": [
    "def resources_rag():\n",
    "    return \"Here are some resources: link to meditation techniques, link to coping techniques\"\n",
    "\n",
    "def crisis_handler():\n",
    "    return \"You seem to be in an active crisis please call 100\""
   ]
  },
  {
   "cell_type": "code",
   "execution_count": 20,
   "metadata": {},
   "outputs": [
    {
     "data": {
      "image/png": "[encoded data removed]",
      "text/plain": [
       "<IPython.core.display.Image object>"
      ]
     },
     "metadata": {},
     "output_type": "display_data"
    }
   ],
   "source": [
    "builder = StateGraph(SophyState)\n",
    "builder.add_node(\"Agent\",agent)\n",
    "builder.add_node(\"Sophy\",sophy_chat)\n",
    "builder.add_node(\"resourceRAG\",resources_rag)\n",
    "builder.add_node(\"crisisHandler\",crisis_handler)\n",
    "\n",
    "builder.add_edge(START, \"Agent\")\n",
    "builder.add_conditional_edges(\"Agent\", agent_edges)\n",
    "builder.add_edge(\"Sophy\",END)\n",
    "builder.add_edge(\"resourceRAG\",\"Sophy\")\n",
    "builder.add_edge(\"crisisHandler\",END)\n",
    "\n",
    "\n",
    "\n",
    "memory = MemorySaver()\n",
    "sophy_state_graph = builder.compile(\n",
    "    checkpointer=memory,\n",
    ")\n",
    "\n",
    "display_graph(sophy_state_graph)"
   ]
  },
  {
   "cell_type": "code",
   "execution_count": null,
   "metadata": {},
   "outputs": [],
   "source": []
  },
  {
   "cell_type": "code",
   "execution_count": null,
   "metadata": {},
   "outputs": [],
   "source": []
  },
  {
   "cell_type": "code",
   "execution_count": null,
   "metadata": {},
   "outputs": [],
   "source": []
  },
  {
   "cell_type": "code",
   "execution_count": null,
   "metadata": {},
   "outputs": [],
   "source": []
  },
  {
   "cell_type": "code",
   "execution_count": null,
   "metadata": {},
   "outputs": [],
   "source": []
  },
  {
   "cell_type": "code",
   "execution_count": null,
   "metadata": {},
   "outputs": [],
   "source": []
  },
  {
   "cell_type": "code",
   "execution_count": null,
   "metadata": {},
   "outputs": [],
   "source": []
  },
  {
   "cell_type": "code",
   "execution_count": null,
   "metadata": {},
   "outputs": [],
   "source": []
  },
  {
   "cell_type": "code",
   "execution_count": null,
   "metadata": {},
   "outputs": [],
   "source": []
  },
  {
   "cell_type": "code",
   "execution_count": null,
   "metadata": {},
   "outputs": [],
   "source": []
  },
  {
   "cell_type": "code",
   "execution_count": null,
   "metadata": {},
   "outputs": [],
   "source": []
  },
  {
   "cell_type": "code",
   "execution_count": null,
   "metadata": {},
   "outputs": [],
   "source": []
  }
 ],
 "metadata": {
  "kernelspec": {
   "display_name": "sss-env",
   "language": "python",
   "name": "python3"
  },
  "language_info": {
   "codemirror_mode": {
    "name": "ipython",
    "version": 3
   },
   "file_extension": ".py",
   "mimetype": "text/x-python",
   "name": "python",
   "nbconvert_exporter": "python",
   "pygments_lexer": "ipython3",
   "version": "3.12.8"
  }
 },
 "nbformat": 4,
 "nbformat_minor": 2
}
